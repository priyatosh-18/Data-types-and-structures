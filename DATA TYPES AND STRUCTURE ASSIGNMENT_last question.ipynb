{
 "cells": [
  {
   "cell_type": "markdown",
   "id": "c6bce114",
   "metadata": {},
   "source": [
    "# DATA TYPES AND STRUCTURES ASSIGNEMNT\n",
    "# PRACTICAL QUESTIONS\n",
    "30. Write a code to convert a list of strings into a set."
   ]
  },
  {
   "cell_type": "code",
   "execution_count": null,
   "id": "ed88ad36",
   "metadata": {},
   "outputs": [
    {
     "name": "stdout",
     "output_type": "stream",
     "text": [
      "Original list: ['apple', 'banana', 'cherry', 'apple', 'banana']\n",
      "Converted set: {'apple', 'banana', 'cherry'}\n"
     ]
    }
   ],
   "source": [
    "string_list = ['apple', 'banana', 'cherry', 'apple', 'banana']\n",
    "print(\"Original list:\", string_list)\n",
    "\n",
    "string_set = set(string_list)\n",
    "print(\"Converted set:\", string_set)"
   ]
  }
 ],
 "metadata": {
  "kernelspec": {
   "display_name": "Python 3",
   "language": "python",
   "name": "python3"
  },
  "language_info": {
   "codemirror_mode": {
    "name": "ipython",
    "version": 3
   },
   "file_extension": ".py",
   "mimetype": "text/x-python",
   "name": "python",
   "nbconvert_exporter": "python",
   "pygments_lexer": "ipython3",
   "version": "3.13.7"
  }
 },
 "nbformat": 4,
 "nbformat_minor": 5
}
