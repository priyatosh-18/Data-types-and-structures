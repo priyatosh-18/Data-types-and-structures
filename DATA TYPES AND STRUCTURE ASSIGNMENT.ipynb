{
 "cells": [
  {
   "cell_type": "markdown",
   "id": "cd0b95e3",
   "metadata": {},
   "source": [
    "# DATA TYPES AND STRUCTURES ASSIGNEMENT\n",
    "# THEORY QUESTIONS"
   ]
  },
  {
   "cell_type": "markdown",
   "id": "c54a4d24",
   "metadata": {},
   "source": [
    "1. What are data strucutures, and why they are important.\n",
    " - Data structures are a way of organizing and storing data in a computer so that it can be used and modified efficiently.\n",
    " - They are important because they are fundamental to computer science and programming. Choosing the right data structure for a task can significantly impact your program's performance. \n",
    "\n",
    "2. Explain the difference between mutable and immutable data types with examples.\n",
    " - The main difference between mutable and immutable data types is whether you can change them after they are created.\n",
    " - Mutable data types can be modified in-place. This means you can change their content without creating a new object. Examples in Python include lists, dictionaries, and sets.\n",
    " - Immutable data types cannot be changed after they are created. If you try to modify an immutable object, you are actually creating a new object in memory. Examples in Python include strings, tuples, and numbers (integers, floats, etc.).\n",
    "\n",
    "3. What are the main differences between lists and tuples in Python ?\n",
    " - The main differences between lists and tuples in Python are related to their mutability, syntax, and common use cases.\n",
    "\n",
    "4. Describe how dictionaries store data.\n",
    " - Dictionaries in Python store data as a collection of key-value pairs.\n",
    " - Keys: Each piece of data has a unique key. Keys must be immutable data types, such as strings, numbers, or tuples. They are used to quickly look up, retrieve, and modify the corresponding value. You cannot have duplicate keys within a single dictionary.\n",
    " - Values: Each key is linked to a value. Values can be of any data type, including strings, integers, lists, or even other dictionaries. Unlike keys, values can be duplicated.\n",
    "\n",
    "5. Why might you use a set instead of a list in Python ?\n",
    " - You might use a set instead of a list in Python for three main reasons: \n",
    " A. to ensure uniqueness of elements\n",
    " B. to take advantage of faster performance for certain operations and \n",
    " C. when order doesn't matter.\n",
    "\n",
    "6. What is a string in Python, and how it is different from a list ?\n",
    " - The key difference between a string and a list is that a string is immutable, while a list is mutable.\n",
    " - Sring can hold a sequence of characters while list can hold sequence of characters of any data type(numbers,strings etc.).\n",
    "\n",
    "7. How do tuples ensure data integrity in Python ?\n",
    " - Tuples ensure data integrity in Python because they are immutable. This is their defining characteristic and the primary reason to use them over other data structures like lists when the data should not be changed.\n",
    "\n",
    "8. What is a hash table, and how does it relate to dictionaries to Python ?\n",
    " - A hash table is a highly efficient data structure that stores information in a way that allows for extremely fast lookups.\n",
    " - Python's dictionaries are implemented as hash tables. This is the fundamental reason why dictionary operations, such as adding, retrieving, or deleting a key-value pair, are so incredibly fast. Because of this implementation, a key requirement for using a dictionary is that its keys must be hashable, meaning they must be immutable. \n",
    "\n",
    "9. Can lists contain different data types in Python ?\n",
    " - Yes, lists in Python can contain different data types. This is a key feature of Python and is often referred to as being a \"heterogeneous\" data structure.\n",
    "\n",
    "10. Explain why strings are immutable in Python ?\n",
    " -  because of\n",
    " a. Hashability for Dictionary Keys\n",
    " b. Performance and Memory Efficiency\n",
    " c. Data Integrity\n",
    "\n",
    "11. What advantages do dictionaries offer over lists for certain tasks ?\n",
    " a. Fast Data Retrieval (Key-based access)\n",
    " b. Associative Data Storage\n",
    " c. Efficient Deletion and Insertion\n",
    "\n",
    "12. Describe a scenario where using a tuple would be preferable over a list.\n",
    " - A scenario where using a tuple would be preferable over a list is when you need to store a collection of items that should not be changed throughout the program's execution. This is a matter of ensuring data integrity.\n",
    "\n",
    "13. How do sets handle duplicate value in Python ?\n",
    " - Sets in Python handle duplicate values by automatically removing them. The fundamental principle of a set is that it is a collection of unique, unordered elements.\n",
    " - When you create a set from a list or any other iterable that contains duplicates, or when you try to add an element that already exists in the set, the duplicate is simply ignored. The set will only store one instance of each value.\n",
    "\n",
    "14. How does the “in” keyword work differently for lists and dictionaries ?\n",
    " - For a list, the in keyword checks if a value exists anywhere in the list.\n",
    " - For a dictionary, the in keyword checks if a key exists in the dictionary.\n",
    "\n",
    "15. Can you modify the elements of a tuple? Explain why or why not ?\n",
    " - No, you cannot modify the elements of a tuple after it has been created. The reason for this is that tuples are an immutable data type in Python.\n",
    " - It is done for \n",
    "   a. data integrity\n",
    "   b. hashability and\n",
    "   c. performance and memeory.\n",
    "\n",
    "16. What is a nested dictionary, and give an example of its use case?\n",
    " - A nested dictionary is a dictionary where the values themselves are also dictionaries. This allows you to create a hierarchical data structure, organizing related information in a clear and logical way.\n",
    " - Example : Storing Student Data\n",
    "   A common use case for a nested dictionary is to store complex, real-world data like student records. For a school management system, you might have multiple students, and for each student, you want to store a variety of information like their ID, grades in different subjects, and contact details.\n",
    "\n",
    "17. Describe the time complexity of accessing elements in a dictionary ?\n",
    " - Accessing elements in a dictionary has a time complexity of O(1) on average. This is referred to as \"constant time,\" meaning the time it takes to retrieve a value is independent of the size of the dictionary.\n",
    "\n",
    "18. In what situations are lists preferred over dictionaries ?\n",
    " a. When the Order of Elements Matters\n",
    " b. When You Need to Access Elements by Index\n",
    " c. When Duplicate Values are Allowed.\n",
    "\n",
    "19. Why are dictionaries considered unordered, and how does that affect data retrieval ?\n",
    " - Dictionaries were historically considered unordered in Python versions prior to 3.7. This was because their underlying data structure, a hash table, does not store elements in a sequential order. Instead, it organizes data based on the unique hash value of each key.\n",
    " - Because of this hash-based storage, you cannot rely on a numerical index (like my_dict[0]) to retrieve items. The position of an element in the dictionary is not meaningful. Instead, data retrieval is always done by its key.\n",
    " \n",
    "20. Explain the difference between a list and a dictionary in terms of data retrieval.\n",
    " - The main difference between a list and a dictionary in terms of data retrieval lies in the method used to locate an item and the efficiency of that method.\n",
    " - Lists: Retrieval by Position (Index)\n",
    " - Dictionaries: Retrieval by Association (Key).\n",
    "\n"
   ]
  },
  {
   "cell_type": "markdown",
   "id": "a3439279",
   "metadata": {},
   "source": [
    "# PRACTICAL QUESTONS"
   ]
  },
  {
   "cell_type": "markdown",
   "id": "a4277cc7",
   "metadata": {},
   "source": [
    "1. Write a code to create a string with your name and print it."
   ]
  },
  {
   "cell_type": "code",
   "execution_count": 61,
   "id": "7eee4ccf",
   "metadata": {},
   "outputs": [
    {
     "name": "stdout",
     "output_type": "stream",
     "text": [
      "My Name is : Priyatosh Dash\n"
     ]
    }
   ],
   "source": [
    "name = 'Priyatosh Dash'\n",
    "print(f'My Name is : {name}')"
   ]
  },
  {
   "cell_type": "markdown",
   "id": "0fa65f00",
   "metadata": {},
   "source": [
    "2. Write a code to find the length of the string \"Hello World\" ?"
   ]
  },
  {
   "cell_type": "code",
   "execution_count": 1,
   "id": "a5aa8211",
   "metadata": {},
   "outputs": [
    {
     "data": {
      "text/plain": [
       "11"
      ]
     },
     "execution_count": 1,
     "metadata": {},
     "output_type": "execute_result"
    }
   ],
   "source": [
    "name = 'Hello World'\n",
    "len(name)"
   ]
  },
  {
   "cell_type": "markdown",
   "id": "eece5ad7",
   "metadata": {},
   "source": [
    "3. Write a code to slice the first 3 characters from the string \"Python Programming\""
   ]
  },
  {
   "cell_type": "code",
   "execution_count": 3,
   "id": "c258f2ab",
   "metadata": {},
   "outputs": [
    {
     "data": {
      "text/plain": [
       "'Pyt'"
      ]
     },
     "execution_count": 3,
     "metadata": {},
     "output_type": "execute_result"
    }
   ],
   "source": [
    "name = 'Python Programming'\n",
    "name[:3]"
   ]
  },
  {
   "cell_type": "markdown",
   "id": "97265c64",
   "metadata": {},
   "source": [
    "4. Write a code to convert the string \"hello\" to uppercase."
   ]
  },
  {
   "cell_type": "code",
   "execution_count": 5,
   "id": "8d53bb40",
   "metadata": {},
   "outputs": [
    {
     "name": "stdout",
     "output_type": "stream",
     "text": [
      "hello in lowercase is HELLO in uppercase\n"
     ]
    }
   ],
   "source": [
    "name = 'hello'\n",
    "capital_name = name.upper()\n",
    "print(f'{name} in lowercase is {capital_name} in uppercase')"
   ]
  },
  {
   "cell_type": "markdown",
   "id": "6a8c24b7",
   "metadata": {},
   "source": [
    "5. Write a code to replace the word \"apple\" with \"orange\" in the string \"I like apple\" ?"
   ]
  },
  {
   "cell_type": "code",
   "execution_count": 13,
   "id": "38bb78f9",
   "metadata": {},
   "outputs": [
    {
     "name": "stdout",
     "output_type": "stream",
     "text": [
      "Original string: I like apple\n",
      "New string: I like orange\n"
     ]
    }
   ],
   "source": [
    "string = \"I like apple\"\n",
    "modified_string = string.replace(\"apple\", \"orange\")\n",
    "print(f\"Original string: {original_string}\")\n",
    "print(f\"New string: {new_string}\")"
   ]
  },
  {
   "cell_type": "markdown",
   "id": "c46be021",
   "metadata": {},
   "source": [
    "6. Write a code to create a list with numbers 1 to 5 and print it."
   ]
  },
  {
   "cell_type": "code",
   "execution_count": 15,
   "id": "fd9d2c4b",
   "metadata": {},
   "outputs": [
    {
     "data": {
      "text/plain": [
       "[1, 2, 3, 4, 5]"
      ]
     },
     "execution_count": 15,
     "metadata": {},
     "output_type": "execute_result"
    }
   ],
   "source": [
    "list = [1,2,3,4,5]\n",
    "list"
   ]
  },
  {
   "cell_type": "markdown",
   "id": "b0c90899",
   "metadata": {
    "vscode": {
     "languageId": "bat"
    }
   },
   "source": [
    "7. Write a code to append the number 10 to the list [1, 2, 3, 4] ?"
   ]
  },
  {
   "cell_type": "code",
   "execution_count": 18,
   "id": "77dd9d97",
   "metadata": {},
   "outputs": [
    {
     "name": "stdout",
     "output_type": "stream",
     "text": [
      "the appended list containing 10 is [1, 2, 3, 4, 10]\n"
     ]
    }
   ],
   "source": [
    "list = [1,2,3,4]\n",
    "list.append(10)\n",
    "print(f'the appended list containing 10 is {list}')"
   ]
  },
  {
   "cell_type": "markdown",
   "id": "820c9dde",
   "metadata": {},
   "source": [
    "8. Write a code to remove the number 3 from the list [1, 2, 3, 4, 5] ?"
   ]
  },
  {
   "cell_type": "code",
   "execution_count": 20,
   "id": "63ab6a97",
   "metadata": {},
   "outputs": [
    {
     "name": "stdout",
     "output_type": "stream",
     "text": [
      "original list is : [1, 2, 3, 4, 5]\n",
      "list after removal of 3 is :[1, 2, 4, 5]\n"
     ]
    }
   ],
   "source": [
    "list = [1,2,3,4,5]\n",
    "print(f'original list is : {list}')\n",
    "list.remove(3)\n",
    "print(f'list after removal of 3 is :{list}')"
   ]
  },
  {
   "cell_type": "markdown",
   "id": "1d86a002",
   "metadata": {},
   "source": [
    "9. Write a code to access the second element in the list ['a', 'b', 'c', 'd']."
   ]
  },
  {
   "cell_type": "code",
   "execution_count": 23,
   "id": "a2965d4c",
   "metadata": {},
   "outputs": [
    {
     "data": {
      "text/plain": [
       "'b'"
      ]
     },
     "execution_count": 23,
     "metadata": {},
     "output_type": "execute_result"
    }
   ],
   "source": [
    "list = ['a','b','c','d']\n",
    "list[1]"
   ]
  },
  {
   "cell_type": "markdown",
   "id": "434c39d7",
   "metadata": {},
   "source": [
    "10. Write a code to reverse the list [10, 20, 30, 40, 50]."
   ]
  },
  {
   "cell_type": "code",
   "execution_count": 24,
   "id": "d46b2829",
   "metadata": {},
   "outputs": [
    {
     "name": "stdout",
     "output_type": "stream",
     "text": [
      "original list before reversal : [10, 20, 30, 40, 50]\n",
      "list after reversal : [50, 40, 30, 20, 10]\n"
     ]
    }
   ],
   "source": [
    "list = [10,20,30,40,50]\n",
    "print(f'original list before reversal : {list}')\n",
    "list.reverse()\n",
    "print(f'list after reversal : {list}')"
   ]
  },
  {
   "cell_type": "markdown",
   "id": "3085ce29",
   "metadata": {},
   "source": [
    "11. Write a code to create a tuple with the elements 100, 200, 300 and print it."
   ]
  },
  {
   "cell_type": "code",
   "execution_count": 26,
   "id": "d64125c0",
   "metadata": {},
   "outputs": [
    {
     "name": "stdout",
     "output_type": "stream",
     "text": [
      "elements in tuple is : (100, 200, 300)\n"
     ]
    }
   ],
   "source": [
    "elements = 100,200,300\n",
    "tuple(elements)\n",
    "print(f'elements in tuple is : {elements}')"
   ]
  },
  {
   "cell_type": "markdown",
   "id": "b4f96046",
   "metadata": {},
   "source": [
    "12. Write a code to access the second-to-last element of the tuple ('red', 'green', 'blue', 'yellow')."
   ]
  },
  {
   "cell_type": "code",
   "execution_count": 27,
   "id": "9890fb20",
   "metadata": {},
   "outputs": [
    {
     "data": {
      "text/plain": [
       "'blue'"
      ]
     },
     "execution_count": 27,
     "metadata": {},
     "output_type": "execute_result"
    }
   ],
   "source": [
    "colors = ('red', 'green', 'blue', 'yellow')\n",
    "tuple(colors)\n",
    "colors[-2]"
   ]
  },
  {
   "cell_type": "markdown",
   "id": "5be25391",
   "metadata": {},
   "source": [
    "13. Write a code to find the minimum number in the tuple (10, 20, 5, 15)."
   ]
  },
  {
   "cell_type": "code",
   "execution_count": 31,
   "id": "e0d490cc",
   "metadata": {},
   "outputs": [
    {
     "name": "stdout",
     "output_type": "stream",
     "text": [
      "the tuple is : (10, 20, 5, 15)\n",
      "the minimum in tuple is : 5\n"
     ]
    }
   ],
   "source": [
    "list = 10,20,5,15\n",
    "tuple(list)\n",
    "print(f'the tuple is : {list}')\n",
    "print(f'the minimum in tuple is : {min(list)}')"
   ]
  },
  {
   "cell_type": "markdown",
   "id": "d4214062",
   "metadata": {},
   "source": [
    "14. Write a code to find the index of the element \"cat\" in the tuple ('dog', 'cat', 'rabbit')."
   ]
  },
  {
   "cell_type": "code",
   "execution_count": 46,
   "id": "0395780d",
   "metadata": {},
   "outputs": [
    {
     "name": "stdout",
     "output_type": "stream",
     "text": [
      "the index of cat in tuple is : 1\n"
     ]
    }
   ],
   "source": [
    "animals = ('dog','cat','rabbit')\n",
    "print(f'the index of cat in tuple is : {animals.index('cat')}')"
   ]
  },
  {
   "cell_type": "markdown",
   "id": "25d4751f",
   "metadata": {},
   "source": [
    "15. Write a code to create a tuple containing three different fruits and check if \"kiwi\" is in it."
   ]
  },
  {
   "cell_type": "code",
   "execution_count": 49,
   "id": "fa07b973",
   "metadata": {},
   "outputs": [
    {
     "name": "stdout",
     "output_type": "stream",
     "text": [
      "kiwi is in the tuple\n"
     ]
    }
   ],
   "source": [
    "fruits = 'apple','orange','banana','kiwi','watermelon'\n",
    "if 'kiwi' in fruits:\n",
    "    print('kiwi is in the tuple')\n",
    "else:\n",
    "    print('kiwi is not in the tuple')\n"
   ]
  },
  {
   "cell_type": "markdown",
   "id": "87a59693",
   "metadata": {},
   "source": [
    "16. Write a code to create a set with the elements 'a', 'b', 'c' and print it."
   ]
  },
  {
   "cell_type": "code",
   "execution_count": 67,
   "id": "2ea467eb",
   "metadata": {},
   "outputs": [
    {
     "name": "stdout",
     "output_type": "stream",
     "text": [
      "the created set is : {'b', 'a', 'c'}\n"
     ]
    }
   ],
   "source": [
    "A_set = {'a','b','c'}\n",
    "print(f'the created set is : {A_set}')"
   ]
  },
  {
   "cell_type": "markdown",
   "id": "93b2b769",
   "metadata": {},
   "source": [
    "17. Write a code to clear all elements from the set {1, 2, 3, 4, 5}."
   ]
  },
  {
   "cell_type": "code",
   "execution_count": 68,
   "id": "27388332",
   "metadata": {},
   "outputs": [
    {
     "name": "stdout",
     "output_type": "stream",
     "text": [
      "set is : {1, 2, 3, 4, 5}\n",
      "cleared set is : set()\n"
     ]
    }
   ],
   "source": [
    "A_set = {1,2,3,4,5}\n",
    "print(f'set is : {A_set}')\n",
    "A_set.clear()\n",
    "print(f'cleared set is : {A_set}')"
   ]
  },
  {
   "cell_type": "markdown",
   "id": "dd920cb5",
   "metadata": {},
   "source": [
    "18. Write a code to remove the element 4 from the set {1, 2, 3, 4}."
   ]
  },
  {
   "cell_type": "code",
   "execution_count": 69,
   "id": "e28d7d50",
   "metadata": {},
   "outputs": [
    {
     "name": "stdout",
     "output_type": "stream",
     "text": [
      "original set is : {1, 2, 3, 4}\n",
      "set after removal of 4 is : {1, 2, 3}\n"
     ]
    }
   ],
   "source": [
    "B_set = {1,2,3,4}\n",
    "print(f'original set is : {B_set}')\n",
    "B_set.remove(4)\n",
    "print(f'set after removal of 4 is : {B_set}')"
   ]
  },
  {
   "cell_type": "markdown",
   "id": "9a0ac3f5",
   "metadata": {},
   "source": [
    "19. Write a code to find the union of two sets {1, 2, 3} and {3, 4, 5}."
   ]
  },
  {
   "cell_type": "code",
   "execution_count": null,
   "id": "88741fa2",
   "metadata": {},
   "outputs": [
    {
     "name": "stdout",
     "output_type": "stream",
     "text": [
      "set A is : {1, 2, 3}\n",
      "set B is : {3, 4, 5}\n",
      "union of set A and set B is : {1, 2, 3, 4, 5}\n"
     ]
    }
   ],
   "source": [
    "a_set = {1,2,3}\n",
    "b_set = {3,4,5}\n",
    "print(f'set A is : {a_set}')\n",
    "print(f'set B is : {b_set}')\n",
    "union = a_set | b_set\n",
    "print(f'union of set A and set B is : {union}')"
   ]
  },
  {
   "cell_type": "markdown",
   "id": "3e5052c4",
   "metadata": {},
   "source": [
    "20. Write a code to find the intersection of two sets {1, 2, 3} and {2, 3, 4}."
   ]
  },
  {
   "cell_type": "code",
   "execution_count": null,
   "id": "056464bd",
   "metadata": {},
   "outputs": [
    {
     "name": "stdout",
     "output_type": "stream",
     "text": [
      "set A is : {1, 2, 3}\n",
      "set B is : {2, 3, 4}\n",
      "intersection of set A and set B is : {2, 3}\n"
     ]
    }
   ],
   "source": [
    "a_set = {1,2,3}\n",
    "b_set = {2,3,4}\n",
    "print(f'set A is : {a_set}')\n",
    "print(f'set B is : {b_set}')\n",
    "intersection = a_set & b_set\n",
    "print(f'intersection of set A and set B is : {intersection}')"
   ]
  },
  {
   "cell_type": "markdown",
   "id": "e8640b09",
   "metadata": {},
   "source": [
    "21. Write a code to create a dictionary with the keys \"name\", \"age\", and \"city\", and print it."
   ]
  },
  {
   "cell_type": "code",
   "execution_count": null,
   "id": "93f4bfeb",
   "metadata": {},
   "outputs": [
    {
     "name": "stdout",
     "output_type": "stream",
     "text": [
      "{'name': 'Priyatosh Dash', 'age': 24, 'city': 'Bhubaneswar'}\n"
     ]
    }
   ],
   "source": [
    "dictionary = {\n",
    "    \"name\": \"Priyatosh Dash\",\n",
    "    \"age\": 24,\n",
    "    \"city\": \"Bhubaneswar\"}\n",
    "print(dictionary)"
   ]
  },
  {
   "cell_type": "markdown",
   "id": "45b6d180",
   "metadata": {},
   "source": [
    "22. Write a code to add a new key-value pair \"country\": \"USA\" to the dictionary {'name': 'John', 'age': 25}."
   ]
  },
  {
   "cell_type": "code",
   "execution_count": null,
   "id": "0fca29d0",
   "metadata": {},
   "outputs": [
    {
     "name": "stdout",
     "output_type": "stream",
     "text": [
      "Original dictionary: {'name': 'John', 'age': 25}\n",
      "Updated dictionary: {'name': 'John', 'age': 25, 'country': 'USA'}\n"
     ]
    }
   ],
   "source": [
    "dictionary = {\n",
    "    \"name\": \"John\",\n",
    "    \"age\": 25}\n",
    "print(f\"Original dictionary: {dictionary}\")\n",
    "dictionary[\"country\"] = \"USA\"\n",
    "print(f\"Updated dictionary: {dictionary}\")"
   ]
  },
  {
   "cell_type": "markdown",
   "id": "8078b0e3",
   "metadata": {},
   "source": [
    "23. Write a code to access the value associated with the key \"name\" in the dictionary {'name': 'Alice', 'age': 30}."
   ]
  },
  {
   "cell_type": "code",
   "execution_count": 20,
   "id": "a968b3b0",
   "metadata": {},
   "outputs": [
    {
     "name": "stdout",
     "output_type": "stream",
     "text": [
      "The value for the key 'name' is: Alice\n"
     ]
    }
   ],
   "source": [
    "my_dictionary = {\n",
    "    'name': 'Alice',\n",
    "    'age': 30}\n",
    "name_value = my_dictionary['name']\n",
    "print(f\"The value for the key 'name' is: {name_value}\")"
   ]
  },
  {
   "cell_type": "markdown",
   "id": "fe7d7817",
   "metadata": {},
   "source": [
    "24. Write a code to remove the key \"age\" from the dictionary {'name': 'Bob', 'age': 22, 'city': 'New York'}."
   ]
  },
  {
   "cell_type": "code",
   "execution_count": 21,
   "id": "5fe1d8b6",
   "metadata": {},
   "outputs": [
    {
     "name": "stdout",
     "output_type": "stream",
     "text": [
      "Original dictionary: {'name': 'Bob', 'age': 22, 'city': 'New York'}\n",
      "Updated dictionary: {'name': 'Bob', 'city': 'New York'}\n"
     ]
    }
   ],
   "source": [
    "my_dictionary = {\n",
    "    'name': 'Bob',\n",
    "    'age': 22,\n",
    "    'city': 'New York'}\n",
    "print(f\"Original dictionary: {my_dictionary}\")\n",
    "del my_dictionary['age']\n",
    "print(f\"Updated dictionary: {my_dictionary}\")"
   ]
  },
  {
   "cell_type": "markdown",
   "id": "84ab6cc6",
   "metadata": {},
   "source": [
    "25. Write a code to check if the key \"city\" exists in the dictionary {'name': 'Alice', 'city': 'Paris'}."
   ]
  },
  {
   "cell_type": "code",
   "execution_count": 22,
   "id": "7493929b",
   "metadata": {},
   "outputs": [
    {
     "name": "stdout",
     "output_type": "stream",
     "text": [
      "The key 'city' exists in the dictionary.\n",
      "The key 'name' exists in the dictionary.\n"
     ]
    }
   ],
   "source": [
    "my_dictionary = {\n",
    "    'name': 'Alice',\n",
    "    'city': 'Paris'}\n",
    "if \"city\" in my_dictionary:\n",
    "    print(\"The key 'city' exists in the dictionary.\")\n",
    "else:\n",
    "    print(\"The key 'city' does not exist in the dictionary.\")\n",
    "if \"name\" in my_dictionary.keys():\n",
    "    print(\"The key 'name' exists in the dictionary.\")\n",
    "else:\n",
    "    print(\"The key 'name' does not exist in the dictionary.\")"
   ]
  },
  {
   "cell_type": "markdown",
   "id": "33f4ca2e",
   "metadata": {},
   "source": [
    "26. Write a code to create a list, a tuple, and a dictionary, and print them all."
   ]
  },
  {
   "cell_type": "code",
   "execution_count": 23,
   "id": "bd25d67e",
   "metadata": {},
   "outputs": [
    {
     "name": "stdout",
     "output_type": "stream",
     "text": [
      "List:\n",
      "[10, 20, 30, 'hello', True]\n",
      "\n",
      "Tuple:\n",
      "(1, 2, 'a', 'b', False)\n",
      "\n",
      "Dictionary:\n",
      "{'name': 'Bob', 'age': 25, 'city': 'San Francisco'}\n"
     ]
    }
   ],
   "source": [
    "my_list = [10, 20, 30, 'hello', True]\n",
    "\n",
    "my_tuple = (1, 2, 'a', 'b', False)\n",
    "\n",
    "my_dictionary = {\n",
    "    'name': 'Bob',\n",
    "    'age': 25,\n",
    "    'city': 'San Francisco'}\n",
    "\n",
    "print(\"List:\")\n",
    "print(my_list)\n",
    "print(\"\\nTuple:\")\n",
    "print(my_tuple)\n",
    "print(\"\\nDictionary:\")\n",
    "print(my_dictionary)"
   ]
  },
  {
   "cell_type": "markdown",
   "id": "390595d9",
   "metadata": {},
   "source": [
    "27. Write a code to create a list of 5 random numbers between 1 and 100, sort it in ascending order, and print the\n",
    "result.(replaced)"
   ]
  },
  {
   "cell_type": "code",
   "execution_count": 29,
   "id": "83b0fb13",
   "metadata": {},
   "outputs": [
    {
     "name": "stdout",
     "output_type": "stream",
     "text": [
      "Original list of random numbers:\n",
      "[100, 75, 69, 37, 76]\n",
      "\n",
      "Sorted list in ascending order:\n",
      "[37, 69, 75, 76, 100]\n"
     ]
    }
   ],
   "source": [
    "import random\n",
    "random_numbers = []\n",
    "\n",
    "for _ in range(5):\n",
    "    number = random.randint(1, 100)\n",
    "    random_numbers.append(number)\n",
    "\n",
    "print(\"Original list of random numbers:\")\n",
    "print(random_numbers)\n",
    "\n",
    "random_numbers.sort()\n",
    "\n",
    "print(\"\\nSorted list in ascending order:\")\n",
    "print(random_numbers)\n"
   ]
  },
  {
   "cell_type": "markdown",
   "id": "e2c82aa9",
   "metadata": {},
   "source": [
    "28. Write a code to create a list with strings and print the element at the third index."
   ]
  },
  {
   "cell_type": "code",
   "execution_count": 30,
   "id": "51728963",
   "metadata": {},
   "outputs": [
    {
     "name": "stdout",
     "output_type": "stream",
     "text": [
      "The element at the third index is: date\n"
     ]
    }
   ],
   "source": [
    "fruits = ['apple', 'banana', 'cherry', 'date', 'strawberry']\n",
    "print(\"The element at the third index is:\", fruits[3])"
   ]
  },
  {
   "cell_type": "markdown",
   "id": "0251c27d",
   "metadata": {},
   "source": [
    "29. Write a code to combine two dictionaries into one and print the result."
   ]
  },
  {
   "cell_type": "code",
   "execution_count": 32,
   "id": "96da8f04",
   "metadata": {},
   "outputs": [
    {
     "name": "stdout",
     "output_type": "stream",
     "text": [
      "Dictionary 1: {'name': 'John', 'age': 30}\n",
      "Dictionary 2: {'city': 'New York', 'occupation': 'Engineer'}\n",
      "Combined Dictionary: {'name': 'John', 'age': 30, 'city': 'New York', 'occupation': 'Engineer'}\n"
     ]
    }
   ],
   "source": [
    "dict1 = {'name': 'John', 'age': 30}\n",
    "dict2 = {'city': 'New York', 'occupation': 'Engineer'}\n",
    "\n",
    "combined_dict = {**dict1, **dict2}\n",
    "\n",
    "print(\"Dictionary 1:\", dict1)\n",
    "print(\"Dictionary 2:\", dict2)\n",
    "print(\"Combined Dictionary:\", combined_dict)"
   ]
  },
  {
   "cell_type": "markdown",
   "id": "c02c0537",
   "metadata": {},
   "source": [
    "30. Write a code to convert a list of strings into a set."
   ]
  }
 ],
 "metadata": {
  "kernelspec": {
   "display_name": "Python 3",
   "language": "python",
   "name": "python3"
  },
  "language_info": {
   "codemirror_mode": {
    "name": "ipython",
    "version": 3
   },
   "file_extension": ".py",
   "mimetype": "text/x-python",
   "name": "python",
   "nbconvert_exporter": "python",
   "pygments_lexer": "ipython3",
   "version": "3.13.7"
  }
 },
 "nbformat": 4,
 "nbformat_minor": 5
}
